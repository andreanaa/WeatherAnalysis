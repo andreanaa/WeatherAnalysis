{
 "cells": [
  {
   "cell_type": "markdown",
   "metadata": {},
   "source": [
    "# Statistik"
   ]
  },
  {
   "cell_type": "markdown",
   "metadata": {},
   "source": [
    "Pertama-tama, kita akan menginput data dari file \"mmsa-icu-beds.csv\" dan \"KPHL.csv\" yang masing-masing berisi data covid di USA dan data cuaca di Philadelphia."
   ]
  },
  {
   "cell_type": "code",
   "execution_count": 1,
   "metadata": {},
   "outputs": [],
   "source": [
    "import pandas as pd\n",
    "import matplotlib.pyplot as plt\n",
    "\n",
    "data_covid=pd.read_csv(\"mmsa-icu-beds.csv\")\n",
    "data_cuaca=pd.read_csv(\"KPHL.csv\")"
   ]
  },
  {
   "cell_type": "markdown",
   "metadata": {},
   "source": [
    "Kita akan melihat masing-masing 10 data pertama dari kedua data sebagai sampel data."
   ]
  },
  {
   "cell_type": "code",
   "execution_count": 2,
   "metadata": {},
   "outputs": [
    {
     "name": "stdout",
     "output_type": "stream",
     "text": [
      "Sampel Data Covid USA: \n",
      "                                                MMSA total_percent_at_risk  \\\n",
      "0                       San Juan-Carolina-Caguas, PR                52.88%   \n",
      "1                                      Manhattan, KS                47.29%   \n",
      "2           Hilton Head Island-Bluffton-Beaufort, SC                62.72%   \n",
      "3                        Kahului-Wailuku-Lahaina, HI                59.13%   \n",
      "4                                    Spartanburg, SC                66.12%   \n",
      "5                                    Baton Rouge, LA                66.60%   \n",
      "6  Rockingham County-Strafford County, NH, Metrop...                57.72%   \n",
      "7                                   Salisbury, MD-DE                68.32%   \n",
      "8                                  Wichita Falls, TX                67.11%   \n",
      "9                               Colorado Springs, CO                55.96%   \n",
      "\n",
      "   high_risk_per_ICU_bed  high_risk_per_hospital  icu_beds  hospitals  \\\n",
      "0                    NaN                     NaN       NaN        NaN   \n",
      "1            4489.848750              8979.69750       8.0        4.0   \n",
      "2            3904.163571             36438.86000      28.0        3.0   \n",
      "3            3860.557000             19302.78500      20.0        4.0   \n",
      "4            3786.115556             85187.60000      45.0        2.0   \n",
      "5            3459.732500             39000.62091     124.0       11.0   \n",
      "6            3365.052000             40380.62400      60.0        5.0   \n",
      "7            3292.271176             37312.40667      68.0        6.0   \n",
      "8            3279.425000             19676.55000      24.0        4.0   \n",
      "9            3251.603053             77225.57250      95.0        4.0   \n",
      "\n",
      "   total_at_risk  \n",
      "0     923725.203  \n",
      "1      35918.790  \n",
      "2     109316.580  \n",
      "3      77211.140  \n",
      "4     170375.200  \n",
      "5     429006.830  \n",
      "6     201903.120  \n",
      "7     223874.440  \n",
      "8      78706.200  \n",
      "9     308902.290  \n",
      "-----------------------------------------------------------------------------------------\n",
      "Sampel Data Cuaca Philadelphia: \n",
      "        date  actual_mean_temp  actual_min_temp  actual_max_temp  \\\n",
      "0   2014-7-1                83               72               93   \n",
      "1   2014-7-2                86               75               96   \n",
      "2   2014-7-3                83               74               92   \n",
      "3   2014-7-4                73               68               78   \n",
      "4   2014-7-5                74               64               83   \n",
      "5   2014-7-6                75               64               86   \n",
      "6   2014-7-7                84               74               93   \n",
      "7   2014-7-8                84               72               95   \n",
      "8   2014-7-9                80               71               89   \n",
      "9  2014-7-10                81               74               87   \n",
      "\n",
      "   average_min_temp  average_max_temp  record_min_temp  record_max_temp  \\\n",
      "0                68                86               52              102   \n",
      "1                68                86               52              103   \n",
      "2                68                87               54              104   \n",
      "3                68                87               52              103   \n",
      "4                69                87               55              100   \n",
      "5                69                87               52              102   \n",
      "6                69                87               55              103   \n",
      "7                69                87               53              100   \n",
      "8                69                87               53              103   \n",
      "9                69                87               53              104   \n",
      "\n",
      "   record_min_temp_year  record_max_temp_year  actual_precipitation  \\\n",
      "0                  1988                  1901                  0.00   \n",
      "1                  1965                  1901                  0.21   \n",
      "2                  1957                  1966                  0.09   \n",
      "3                  1986                  1966                  0.04   \n",
      "4                  1963                  1999                  0.00   \n",
      "5                  1960                  2010                  0.00   \n",
      "6                  1968                  2010                  0.00   \n",
      "7                  1960                  1993                  0.17   \n",
      "8                  1963                  1936                  0.00   \n",
      "9                  1963                  1936                  0.00   \n",
      "\n",
      "   average_precipitation  record_precipitation  \n",
      "0                   0.13                  1.04  \n",
      "1                   0.13                  1.73  \n",
      "2                   0.12                  3.66  \n",
      "3                   0.13                  2.08  \n",
      "4                   0.13                  4.38  \n",
      "5                   0.13                  1.36  \n",
      "6                   0.13                  2.97  \n",
      "7                   0.14                  2.28  \n",
      "8                   0.15                  1.79  \n",
      "9                   0.14                  2.99  \n"
     ]
    }
   ],
   "source": [
    "print(\"Sampel Data Covid USA: \")\n",
    "print(data_covid[:10])\n",
    "print(\"-----------------------------------------------------------------------------------------\")\n",
    "print(\"Sampel Data Cuaca Philadelphia: \")\n",
    "print(data_cuaca[:10])"
   ]
  },
  {
   "cell_type": "markdown",
   "metadata": {},
   "source": [
    "Agar kita bisa mendapat gambaran besar data, maka kita akan melihat beberapa statistik data."
   ]
  },
  {
   "cell_type": "markdown",
   "metadata": {},
   "source": [
    "1. Standar Deviasi"
   ]
  },
  {
   "cell_type": "markdown",
   "metadata": {},
   "source": [
    "    a. Data Covid"
   ]
  },
  {
   "cell_type": "code",
   "execution_count": 3,
   "metadata": {},
   "outputs": [
    {
     "name": "stdout",
     "output_type": "stream",
     "text": [
      "high_risk_per_ICU_bed        720.661896\n",
      "high_risk_per_hospital     17992.274197\n",
      "icu_beds                     450.580508\n",
      "hospitals                     15.377929\n",
      "total_at_risk             884786.817983\n",
      "dtype: float64\n"
     ]
    }
   ],
   "source": [
    "print(data_covid.std())"
   ]
  },
  {
   "cell_type": "markdown",
   "metadata": {},
   "source": [
    "Dari data tersebut, kita dapat melihat bahwa deviasi pasien \"high risk\" baik secara total maupun per rumah sakit sangat besar. Ini menunjukkan bahwa sebaran virus corona tidak menentu. Selain itu, deviasi kasur ICU dan pasien per kasur ICU relatif lebih kecil karena kasur ICU merupakan faktor yang bisa dikendalikan dan tiap distribusi ICU ini diregulasi oleh pemerintah. Kemudian, deviasi banyak rumah sakit jauh lebih kecil karena rumah sakit jumlahnya memang tidak terlalu banyak. Seperti halnya dengan kasur ICU juga, pembangunan rumah sakit diregulasi oleh pemerintah sehingga distribusinya lebih merata."
   ]
  },
  {
   "cell_type": "code",
   "execution_count": 4,
   "metadata": {},
   "outputs": [
    {
     "name": "stdout",
     "output_type": "stream",
     "text": [
      "actual_mean_temp         18.947380\n",
      "actual_min_temp          18.391740\n",
      "actual_max_temp          19.886070\n",
      "average_min_temp         15.454917\n",
      "average_max_temp         16.432768\n",
      "record_min_temp          19.379854\n",
      "record_max_temp          12.556242\n",
      "record_min_temp_year     35.210000\n",
      "record_max_temp_year     35.722070\n",
      "actual_precipitation      0.304216\n",
      "average_precipitation     0.015280\n",
      "record_precipitation      0.931560\n",
      "dtype: float64\n"
     ]
    }
   ],
   "source": [
    "print(data_cuaca.std())"
   ]
  },
  {
   "cell_type": "markdown",
   "metadata": {},
   "source": [
    "    b. Data Cuaca"
   ]
  },
  {
   "cell_type": "markdown",
   "metadata": {},
   "source": [
    "Seperti yang diharapkan, deviasi data cuaca yang merupakan fenomena teratur memiliki deviasi yang relatif rendah. Deviasi yang lebih besar disebabkan nilai data yang lebih besar (seperti tahun yang nilainya ribuan) dan deviasi kecil disebabkan data kecil (seperti nilai presipitasi yang berkisar di 1). "
   ]
  },
  {
   "cell_type": "markdown",
   "metadata": {},
   "source": [
    "2. Rata-rata"
   ]
  },
  {
   "cell_type": "markdown",
   "metadata": {},
   "source": [
    "    a. Data Covid"
   ]
  },
  {
   "cell_type": "code",
   "execution_count": 5,
   "metadata": {},
   "outputs": [
    {
     "name": "stdout",
     "output_type": "stream",
     "text": [
      "high_risk_per_ICU_bed       1947.356729\n",
      "high_risk_per_hospital     43787.067561\n",
      "icu_beds                     360.185185\n",
      "hospitals                     13.762963\n",
      "total_at_risk             667188.725022\n",
      "dtype: float64\n"
     ]
    }
   ],
   "source": [
    "print(data_covid.mean())"
   ]
  },
  {
   "cell_type": "markdown",
   "metadata": {},
   "source": [
    "Nilai rata-rata diatas menunjukkan tingkat keganasan covid yang mencapai 667 ribu orang per daerah dengan 43 ribu beresiko tinggi, tetapi hanya ada sekitar 14 rumah sakit per daerah. Kasur ICU yang tersedia hanya 360 dan tiap kasur secara ideal harus digunakan 1900 orang secara rata-rata."
   ]
  },
  {
   "cell_type": "markdown",
   "metadata": {},
   "source": [
    "    b. Data Cuaca"
   ]
  },
  {
   "cell_type": "code",
   "execution_count": 6,
   "metadata": {},
   "outputs": [
    {
     "name": "stdout",
     "output_type": "stream",
     "text": [
      "actual_mean_temp           55.884932\n",
      "actual_min_temp            47.265753\n",
      "actual_max_temp            63.983562\n",
      "average_min_temp           47.221918\n",
      "average_max_temp           64.723288\n",
      "record_min_temp            28.030137\n",
      "record_max_temp            84.989041\n",
      "record_min_temp_year     1947.301370\n",
      "record_max_temp_year     1957.835616\n",
      "actual_precipitation        0.124548\n",
      "average_precipitation       0.113781\n",
      "record_precipitation        2.135452\n",
      "dtype: float64\n"
     ]
    }
   ],
   "source": [
    "print(data_cuaca.mean())"
   ]
  },
  {
   "cell_type": "markdown",
   "metadata": {},
   "source": [
    "Nilai rata-rata tersebut menunjukkan gambaran besar suhu dan presipitasi selama satu tahun di USA. Namun, tentu saja nilai rata-rata tahun rekor maksimum dan minimum suhu tidak berarti apa-apa secara cuaca."
   ]
  },
  {
   "cell_type": "markdown",
   "metadata": {},
   "source": [
    "3. Kuartil"
   ]
  },
  {
   "cell_type": "markdown",
   "metadata": {},
   "source": [
    "    a. Data Covid"
   ]
  },
  {
   "cell_type": "code",
   "execution_count": 7,
   "metadata": {},
   "outputs": [
    {
     "name": "stdout",
     "output_type": "stream",
     "text": [
      "      high_risk_per_ICU_bed  high_risk_per_hospital  icu_beds  hospitals  \\\n",
      "0.25            1487.781317            31005.455625      89.5        5.0   \n",
      "0.50            1923.676063            42460.360000     221.0        9.0   \n",
      "0.75            2321.085003            56583.347585     489.5       18.0   \n",
      "\n",
      "      total_at_risk  \n",
      "0.25    158747.8375  \n",
      "0.50    396081.5000  \n",
      "0.75    932792.5025  \n"
     ]
    }
   ],
   "source": [
    "print(data_covid.quantile([0.25,0.5,0.75]))"
   ]
  },
  {
   "cell_type": "markdown",
   "metadata": {},
   "source": [
    "Kita dapat melihat bahwa perbedaan rumah sakit dan kasur ICU di tiap kuartil cukup signifikan. Hal ini disebabkan lebih banyak infrastruktur yang dibangun di daerah yang lebih padat dan sebaliknya. Selain itu, sebaran covid yang mencapai 900 ribu penduduk pada kuartil tiga juga menunjukkan bahwa covid menyebar lebih mudah di daerah padat tersebut."
   ]
  },
  {
   "cell_type": "markdown",
   "metadata": {},
   "source": [
    "    b. Data Cuaca"
   ]
  },
  {
   "cell_type": "code",
   "execution_count": 8,
   "metadata": {},
   "outputs": [
    {
     "name": "stdout",
     "output_type": "stream",
     "text": [
      "      actual_mean_temp  actual_min_temp  actual_max_temp  average_min_temp  \\\n",
      "0.25              39.0             33.0             46.0              32.0   \n",
      "0.50              59.0             50.0             69.0              46.0   \n",
      "0.75              73.0             64.0             82.0              63.0   \n",
      "\n",
      "      average_max_temp  record_min_temp  record_max_temp  \\\n",
      "0.25              49.0              9.0             73.0   \n",
      "0.50              66.0             29.0             88.0   \n",
      "0.75              81.0             46.0             97.0   \n",
      "\n",
      "      record_min_temp_year  record_max_temp_year  actual_precipitation  \\\n",
      "0.25                1930.0                1931.0                  0.00   \n",
      "0.50                1960.0                1957.0                  0.00   \n",
      "0.75                1969.0                1990.0                  0.05   \n",
      "\n",
      "      average_precipitation  record_precipitation  \n",
      "0.25                   0.10                  1.55  \n",
      "0.50                   0.11                  1.88  \n",
      "0.75                   0.12                  2.49  \n"
     ]
    }
   ],
   "source": [
    "print(data_cuaca.quantile([0.25,0.5,0.75]))"
   ]
  },
  {
   "cell_type": "markdown",
   "metadata": {},
   "source": [
    "Seperti yang diharapkan, data temperatur relatif berbeda pada tiap kuartil. Ini wajar karena sepanjang tahun, cuaca berubah drastis mulai dari musim panas hingga musim dingin. Lain halnya, data kuartil presipitasi menunjukkan bahwa kejadian hujan relatif sama sepanjang tahun dan sangat jarang terjadi."
   ]
  },
  {
   "cell_type": "markdown",
   "metadata": {},
   "source": [
    "3. Ekstremum"
   ]
  },
  {
   "cell_type": "markdown",
   "metadata": {},
   "source": [
    "    a. Data Covid"
   ]
  },
  {
   "cell_type": "code",
   "execution_count": 9,
   "metadata": {},
   "outputs": [
    {
     "name": "stdout",
     "output_type": "stream",
     "text": [
      "Maksimum\n",
      "MMSA                      Worcester, MA-CT\n",
      "total_percent_at_risk               80.73%\n",
      "high_risk_per_ICU_bed              4489.85\n",
      "high_risk_per_hospital             91771.3\n",
      "icu_beds                              2777\n",
      "hospitals                              100\n",
      "total_at_risk                   6.1651e+06\n",
      "dtype: object\n",
      "---------------------------------------------------------------------------------------------\n",
      "Minimum\n",
      "MMSA                      Aberdeen, SD\n",
      "total_percent_at_risk           38.92%\n",
      "high_risk_per_ICU_bed          413.668\n",
      "high_risk_per_hospital         6770.19\n",
      "icu_beds                             8\n",
      "hospitals                            1\n",
      "total_at_risk                  17941.5\n",
      "dtype: object\n"
     ]
    }
   ],
   "source": [
    "print(\"Maksimum\")\n",
    "print(data_covid.max())\n",
    "print(\"---------------------------------------------------------------------------------------------\")\n",
    "print(\"Minimum\")\n",
    "print(data_covid.min())"
   ]
  },
  {
   "cell_type": "markdown",
   "metadata": {},
   "source": [
    "Kita dapat melihat bahwa ada daerah yang hanya memiliki satu rumah sakit, sedangkan ada yang memiliki 100. Selain itu, ada daerah yang memiliki 81% pasien beresiko dan ada yang hanya memiliki 39%. Ini menunjukkan sebaran covid dan kapasitas perawatan tiap daerah keduanya memiliki rentang yang sangat besar."
   ]
  },
  {
   "cell_type": "markdown",
   "metadata": {},
   "source": [
    "    b. Data Cuaca"
   ]
  },
  {
   "cell_type": "code",
   "execution_count": 10,
   "metadata": {},
   "outputs": [
    {
     "name": "stdout",
     "output_type": "stream",
     "text": [
      "Maksimum\n",
      "date                     2015-6-9\n",
      "actual_mean_temp               86\n",
      "actual_min_temp                77\n",
      "actual_max_temp                96\n",
      "average_min_temp               70\n",
      "average_max_temp               87\n",
      "record_min_temp                59\n",
      "record_max_temp               106\n",
      "record_min_temp_year         2014\n",
      "record_max_temp_year         2014\n",
      "actual_precipitation         2.01\n",
      "average_precipitation        0.15\n",
      "record_precipitation         8.02\n",
      "dtype: object\n",
      "---------------------------------------------------------------------------------------------\n",
      "Minimum\n",
      "date                     2014-10-1\n",
      "actual_mean_temp                10\n",
      "actual_min_temp                  2\n",
      "actual_max_temp                 17\n",
      "average_min_temp                25\n",
      "average_max_temp                40\n",
      "record_min_temp                -11\n",
      "record_max_temp                 61\n",
      "record_min_temp_year          1872\n",
      "record_max_temp_year          1874\n",
      "actual_precipitation             0\n",
      "average_precipitation         0.08\n",
      "record_precipitation          0.85\n",
      "dtype: object\n"
     ]
    }
   ],
   "source": [
    "print(\"Maksimum\")\n",
    "print(data_cuaca.max())\n",
    "print(\"---------------------------------------------------------------------------------------------\")\n",
    "print(\"Minimum\")\n",
    "print(data_cuaca.min())"
   ]
  },
  {
   "cell_type": "markdown",
   "metadata": {},
   "source": [
    "Data tersebut menunjukkan fluktuasi cuaca yang relatif besar. Ada hari dimana temperatur mencapai 96 derajat farenheit dan ada hari dimana temperatur mencapai 2 derajat farenheit."
   ]
  }
 ],
 "metadata": {
  "kernelspec": {
   "display_name": "Python 3",
   "language": "python",
   "name": "python3"
  },
  "language_info": {
   "codemirror_mode": {
    "name": "ipython",
    "version": 3
   },
   "file_extension": ".py",
   "mimetype": "text/x-python",
   "name": "python",
   "nbconvert_exporter": "python",
   "pygments_lexer": "ipython3",
   "version": "3.8.5"
  }
 },
 "nbformat": 4,
 "nbformat_minor": 4
}
